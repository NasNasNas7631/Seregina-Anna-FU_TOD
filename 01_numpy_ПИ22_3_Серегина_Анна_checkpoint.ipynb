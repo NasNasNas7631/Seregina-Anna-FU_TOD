{
  "cells": [
    {
      "cell_type": "markdown",
      "metadata": {
        "id": "9J_OUWayPNC0"
      },
      "source": [
        "# Numpy"
      ]
    },
    {
      "cell_type": "markdown",
      "metadata": {
        "id": "Zn9_2_-PPNC1"
      },
      "source": [
        "Материалы:\n",
        "* Макрушин С.В. \"Лекция 1: Библиотека Numpy\"\n",
        "* https://numpy.org/doc/stable/user/index.html\n",
        "* https://numpy.org/doc/stable/reference/index.html"
      ]
    },
    {
      "cell_type": "markdown",
      "metadata": {
        "id": "8oPCb1kFPNC1"
      },
      "source": [
        "## Задачи для совместного разбора"
      ]
    },
    {
      "cell_type": "markdown",
      "metadata": {
        "id": "hbu4wu0tPNC1"
      },
      "source": [
        "1. Сгенерировать двухмерный массив `arr` размерности (4, 7), состоящий из случайных действительных чисел, равномерно распределенных в диапазоне от 0 до 20. Нормализовать значения массива с помощью преобразования вида  $𝑎𝑥+𝑏$  так, что после нормализации максимальный элемент масcива будет равен 1.0, минимальный 0.0"
      ]
    },
    {
      "cell_type": "code",
      "execution_count": null,
      "metadata": {
        "colab": {
          "base_uri": "https://localhost:8080/"
        },
        "id": "wTxvsLyOPNC1",
        "outputId": "00a9cc9c-cc4d-4965-ba47-46b78a3792d6"
      },
      "outputs": [
        {
          "output_type": "stream",
          "name": "stdout",
          "text": [
            "[[ 2.99410391 17.89058259  5.8989438   8.74223053  2.53181228  3.99127342\n",
            "   8.29517958]\n",
            " [15.90338679  0.12147258  2.70941373  4.51503184 13.97009824 14.26185483\n",
            "   9.04138124]\n",
            " [18.70899538  7.00953829 18.14348036 15.8880493  19.35784315 11.41635569\n",
            "  16.36887214]\n",
            " [ 4.07479178  7.99034391 19.37902725  4.60203635 17.28145334 15.37263669\n",
            "   6.1644845 ]]\n",
            "-----\n",
            "[[0.1 0.9 0.3 0.4 0.1 0.2 0.4]\n",
            " [0.8 0.  0.1 0.2 0.7 0.7 0.5]\n",
            " [1.  0.4 0.9 0.8 1.  0.6 0.8]\n",
            " [0.2 0.4 1.  0.2 0.9 0.8 0.3]]\n"
          ]
        }
      ],
      "source": [
        "import numpy as np\n",
        "arr = np.random.uniform(0, 20,28)\n",
        "arr = arr.reshape((4,7))\n",
        "minim = np.min(arr)\n",
        "maxim = np.max(arr)\n",
        "print(arr)\n",
        "print(\"-----\")\n",
        "print(np.around((arr-minim)/(maxim-minim), decimals=1))\n"
      ]
    },
    {
      "cell_type": "markdown",
      "metadata": {
        "id": "BTHYq8tBPNC2"
      },
      "source": [
        "2. Создать матрицу 8 на 10 из случайных целых (используя модуль `numpy.random`) чисел из диапозона от 0 до 10 и найти в ней строку (ее индекс и вывести саму строку), в которой сумма значений минимальна."
      ]
    },
    {
      "cell_type": "code",
      "source": [
        "import numpy as np\n",
        "arr = np.random.randint(0, 10, 80)\n",
        "arr = arr.reshape(8, 10)\n",
        "k = 0\n",
        "minim = 10000\n",
        "for i in range(len(arr)):\n",
        "  if sum(arr[i]) <minim:\n",
        "    minim = sum(arr[i])\n",
        "    k = i\n",
        "print(arr)\n",
        "print(\"----\")\n",
        "print(f'Индекс {k}\\nСтрока {arr[i]}')"
      ],
      "metadata": {
        "colab": {
          "base_uri": "https://localhost:8080/"
        },
        "id": "Sd9S1V4ReFHI",
        "outputId": "2cd55a61-2192-4d8b-d7e4-d61161e31bec"
      },
      "execution_count": null,
      "outputs": [
        {
          "output_type": "stream",
          "name": "stdout",
          "text": [
            "[[5 7 1 2 2 7 9 5 2 4]\n",
            " [8 0 0 7 3 9 9 8 7 4]\n",
            " [9 1 6 1 4 4 9 1 1 8]\n",
            " [8 6 0 7 3 0 0 1 4 8]\n",
            " [2 5 5 2 5 2 2 1 4 2]\n",
            " [7 3 5 1 3 9 2 5 1 7]\n",
            " [6 8 4 4 8 9 3 9 4 1]\n",
            " [1 4 6 1 9 1 4 9 3 1]]\n",
            "----\n",
            "Индекс 4\n",
            "Строка [1 4 6 1 9 1 4 9 3 1]\n"
          ]
        }
      ]
    },
    {
      "cell_type": "markdown",
      "metadata": {
        "id": "CrGx9h-MPNC2"
      },
      "source": [
        "3. Найти евклидово расстояние между двумя одномерными векторами одинаковой размерности."
      ]
    },
    {
      "cell_type": "code",
      "source": [
        "import numpy as np\n",
        "arr1 = np.array([int(i) for i in (input().split())]) \n",
        "arr2 = np.array([int(i) for i in (input().split())])\n",
        "d = np.sqrt(np.sum(np.square(arr1-arr2)))\n",
        "print(d)"
      ],
      "metadata": {
        "colab": {
          "base_uri": "https://localhost:8080/"
        },
        "id": "chQwm5SChBru",
        "outputId": "3add4149-48ab-4c06-f593-2c01befc1871"
      },
      "execution_count": null,
      "outputs": [
        {
          "output_type": "stream",
          "name": "stdout",
          "text": [
            "0 0 0\n",
            "1 1 1\n",
            "1.7320508075688772\n"
          ]
        }
      ]
    },
    {
      "cell_type": "markdown",
      "metadata": {
        "id": "IcOf0gKkPNC2"
      },
      "source": [
        "4. Решить матричное уравнение `A*X*B=-C` - найти матрицу `X`. Где `A = [[-1, 2, 4], [-3, 1, 2], [-3, 0, 1]]`, `B=[[3, -1], [2, 1]]`, `C=[[7, 21], [11, 8], [8, 4]]`."
      ]
    },
    {
      "cell_type": "code",
      "source": [
        "A = np.array([[-1, 2, 4], [-3, 1, 2], [-3, 0, 1]])\n",
        "B= np.array([[3, -1], [2, 1]])\n",
        "C=np.array([[7, 21], [11, 8], [8, 4]])\n",
        "AX = np.dot(C*(-1), np.linalg.inv(B))\n",
        "X = np.dot(np.linalg.inv(A), AX)\n",
        "print(np.around(X, decimals = 2))"
      ],
      "metadata": {
        "colab": {
          "base_uri": "https://localhost:8080/"
        },
        "id": "lt5ACjPchCAJ",
        "outputId": "6e035a54-1029-46b9-e3a0-e3a603c30a5e"
      },
      "execution_count": null,
      "outputs": [
        {
          "output_type": "stream",
          "name": "stdout",
          "text": [
            "[[ 1.  0.]\n",
            " [-2.  1.]\n",
            " [ 3. -4.]]\n"
          ]
        }
      ]
    },
    {
      "cell_type": "markdown",
      "metadata": {
        "id": "D1WC6pybPNC2"
      },
      "source": [
        "## Лабораторная работа №1"
      ]
    },
    {
      "cell_type": "markdown",
      "metadata": {
        "id": "w0jVDn8jPNC2"
      },
      "source": [
        "Замечание: при решении данных задач не подразумевается использования циклов или генераторов Python, если в задании не сказано обратного. Решение должно опираться на использования функционала библиотеки `numpy`."
      ]
    },
    {
      "cell_type": "markdown",
      "metadata": {
        "id": "eQKKUEHXPNC3"
      },
      "source": [
        "1. Файл `minutes_n_ingredients.csv` содержит информацию об идентификаторе рецепта, времени его выполнения в минутах и количестве необходимых ингредиентов. Считайте данные из этого файла в виде массива `numpy` типа `int32`, используя `np.loadtxt`. Выведите на экран первые 5 строк массива."
      ]
    },
    {
      "cell_type": "code",
      "source": [
        "import numpy as np\n",
        "recipe = np.loadtxt('minutes_n_ingredients.csv', dtype = 'int32',delimiter=',', skiprows = 1)\n",
        "print(recipe[:5])"
      ],
      "metadata": {
        "colab": {
          "base_uri": "https://localhost:8080/"
        },
        "id": "SnfU5pBsnmCF",
        "outputId": "6c875faa-45db-4484-e980-9899a4bc55cf"
      },
      "execution_count": 2,
      "outputs": [
        {
          "output_type": "stream",
          "name": "stdout",
          "text": [
            "[[127244     60     16]\n",
            " [ 23891     25      7]\n",
            " [ 94746     10      6]\n",
            " [ 67660      5      6]\n",
            " [157911     60     14]]\n"
          ]
        }
      ]
    },
    {
      "cell_type": "markdown",
      "metadata": {
        "id": "mc3kK8EzPNC3"
      },
      "source": [
        "2. Вычислите среднее значение, минимум, максимум и медиану по каждому из столбцов, кроме первого."
      ]
    },
    {
      "cell_type": "code",
      "source": [
        "print('Среднее значение ', np.mean(recipe[:,1:],0))\n",
        "print('Максимальные значения ',np.max(recipe[:,1:],0))\n",
        "print('Минимальные значения ',np.min(recipe[:,1:],0))\n",
        "print('Медианы ',np.median(recipe[:,1:],0))"
      ],
      "metadata": {
        "colab": {
          "base_uri": "https://localhost:8080/"
        },
        "id": "meG2sjJWoQSV",
        "outputId": "e4a8ef8f-0f55-4317-de81-9877b39f8f39"
      },
      "execution_count": 3,
      "outputs": [
        {
          "output_type": "stream",
          "name": "stdout",
          "text": [
            "Среднее значение  [2.16010017e+04 9.05528000e+00]\n",
            "Максимальные значения  [2147483647         39]\n",
            "Минимальные значения  [0 1]\n",
            "Медианы  [40.  9.]\n"
          ]
        }
      ]
    },
    {
      "cell_type": "markdown",
      "metadata": {
        "id": "33IVS3AqPNC3"
      },
      "source": [
        "3. Ограничьте сверху значения продолжительности выполнения рецепта значением квантиля $q_{0.75}$. "
      ]
    },
    {
      "cell_type": "code",
      "source": [
        "maxim = np.quantile(recipe[:,1], 0.75, axis = 0)\n",
        "print(maxim)\n",
        "print(recipe[recipe[:,1]<=maxim])"
      ],
      "metadata": {
        "colab": {
          "base_uri": "https://localhost:8080/"
        },
        "id": "vSsbQHbroiFN",
        "outputId": "a3dda0a0-28a0-4471-c7e3-b9ffc7029390"
      },
      "execution_count": 4,
      "outputs": [
        {
          "output_type": "stream",
          "name": "stdout",
          "text": [
            "65.0\n",
            "[[127244     60     16]\n",
            " [ 23891     25      7]\n",
            " [ 94746     10      6]\n",
            " ...\n",
            " [ 43407     35      7]\n",
            " [498432     65     15]\n",
            " [370915      5      4]]\n"
          ]
        }
      ]
    },
    {
      "cell_type": "markdown",
      "metadata": {
        "id": "WDGviuqMPNC3"
      },
      "source": [
        "4. Посчитайте, для скольких рецептов указана продолжительность, равная нулю. Замените для таких строк значение в данном столбце на 1."
      ]
    },
    {
      "cell_type": "code",
      "source": [
        "a = np.count_nonzero(recipe[:,1] == 0)\n",
        "recipe[recipe[:,1]==0] = 1\n",
        "print( np.count_nonzero(recipe[:,1] == 0))"
      ],
      "metadata": {
        "colab": {
          "base_uri": "https://localhost:8080/"
        },
        "id": "kBIU03_WpIHn",
        "outputId": "3fd72011-0d4c-4f70-d07b-09a618768302"
      },
      "execution_count": 9,
      "outputs": [
        {
          "output_type": "stream",
          "name": "stdout",
          "text": [
            "0\n"
          ]
        }
      ]
    },
    {
      "cell_type": "markdown",
      "metadata": {
        "id": "2Du7PGscPNC3"
      },
      "source": [
        "5. Посчитайте, сколько уникальных рецептов находится в датасете."
      ]
    },
    {
      "cell_type": "code",
      "source": [
        "a = np.unique(recipe[:,0])\n",
        "print(len(a))"
      ],
      "metadata": {
        "colab": {
          "base_uri": "https://localhost:8080/"
        },
        "id": "E4fc20e5pXi_",
        "outputId": "c386ae1f-3c77-4f9b-fa43-ec6458b669fd"
      },
      "execution_count": 11,
      "outputs": [
        {
          "output_type": "stream",
          "name": "stdout",
          "text": [
            "99522\n"
          ]
        }
      ]
    },
    {
      "cell_type": "markdown",
      "metadata": {
        "id": "-xc36fzlPNC3"
      },
      "source": [
        "6. Сколько и каких различных значений кол-ва ингредиентов присутвует в рецептах из датасета?"
      ]
    },
    {
      "cell_type": "code",
      "source": [
        "a, num = np.unique(recipe[:,2], return_counts=True)\n",
        "print(np.column_stack((a, num)))\n"
      ],
      "metadata": {
        "colab": {
          "base_uri": "https://localhost:8080/"
        },
        "id": "nvLy-hA_pdJ8",
        "outputId": "a9c6891a-5ef0-4717-ac14-548e2634f405"
      },
      "execution_count": 19,
      "outputs": [
        {
          "output_type": "stream",
          "name": "stdout",
          "text": [
            "[[    1   492]\n",
            " [    2   924]\n",
            " [    3  2884]\n",
            " [    4  5479]\n",
            " [    5  7874]\n",
            " [    6  9328]\n",
            " [    7 10579]\n",
            " [    8 10887]\n",
            " [    9 10542]\n",
            " [   10  9548]\n",
            " [   11  8262]\n",
            " [   12  6574]\n",
            " [   13  4985]\n",
            " [   14  3639]\n",
            " [   15  2583]\n",
            " [   16  1760]\n",
            " [   17  1237]\n",
            " [   18   787]\n",
            " [   19   566]\n",
            " [   20   376]\n",
            " [   21   214]\n",
            " [   22   161]\n",
            " [   23   105]\n",
            " [   24    68]\n",
            " [   25    50]\n",
            " [   26    28]\n",
            " [   27    16]\n",
            " [   28    16]\n",
            " [   29    12]\n",
            " [   30    12]\n",
            " [   31     3]\n",
            " [   32     1]\n",
            " [   33     2]\n",
            " [   34     1]\n",
            " [   35     3]\n",
            " [   37     1]\n",
            " [   39     1]]\n"
          ]
        }
      ]
    },
    {
      "cell_type": "markdown",
      "metadata": {
        "id": "Eo-jZlbvPNC3"
      },
      "source": [
        "7. Создайте версию массива, содержащую информацию только о рецептах, состоящих не более чем из 5 ингредиентов."
      ]
    },
    {
      "cell_type": "code",
      "source": [
        "arr = recipe[recipe[:,2]<=5]\n",
        "a = np.copy(arr)\n",
        "print(a)\n",
        "print('\\n\\n',recipe)"
      ],
      "metadata": {
        "colab": {
          "base_uri": "https://localhost:8080/"
        },
        "id": "lGLP7ENpqFnY",
        "outputId": "904f45ca-f101-4ece-c01c-7b9c248bf460"
      },
      "execution_count": 20,
      "outputs": [
        {
          "output_type": "stream",
          "name": "stdout",
          "text": [
            "[[446597     15      5]\n",
            " [204134      5      3]\n",
            " [ 25623      6      4]\n",
            " ...\n",
            " [ 52088     60      5]\n",
            " [128811     15      4]\n",
            " [370915      5      4]]\n",
            "\n",
            "\n",
            " [[127244     60     16]\n",
            " [ 23891     25      7]\n",
            " [ 94746     10      6]\n",
            " ...\n",
            " [498432     65     15]\n",
            " [370915      5      4]\n",
            " [ 81993    140     14]]\n"
          ]
        }
      ]
    },
    {
      "cell_type": "markdown",
      "metadata": {
        "id": "UObtETzCPNC3"
      },
      "source": [
        "8. Для каждого рецепта посчитайте, сколько в среднем ингредиентов приходится на одну минуту рецепта. Найдите максимальное значение этой величины для всего датасета"
      ]
    },
    {
      "cell_type": "code",
      "source": [
        "a = recipe[:,2]/recipe[:,1]\n",
        "print( max(a))"
      ],
      "metadata": {
        "colab": {
          "base_uri": "https://localhost:8080/"
        },
        "id": "oS3aPGRmqOU_",
        "outputId": "9fda835f-f69c-4370-fb7f-a9056ffcc805"
      },
      "execution_count": 26,
      "outputs": [
        {
          "output_type": "stream",
          "name": "stdout",
          "text": [
            "23.0\n"
          ]
        }
      ]
    },
    {
      "cell_type": "markdown",
      "metadata": {
        "id": "EiRiSF6oPNC4"
      },
      "source": [
        "9. Вычислите среднее количество ингредиентов для топ-100 рецептов с наибольшей продолжительностью"
      ]
    },
    {
      "cell_type": "code",
      "source": [
        "a = recipe[:,1].argsort()\n",
        "b = recipe[a][-100:]\n",
        "print(np.mean(b[:,2], axis = 0))"
      ],
      "metadata": {
        "colab": {
          "base_uri": "https://localhost:8080/"
        },
        "id": "u6D6j1h2qa2d",
        "outputId": "cfe4ed10-2ec0-414d-e00e-3cf27db3566b"
      },
      "execution_count": 25,
      "outputs": [
        {
          "output_type": "stream",
          "name": "stdout",
          "text": [
            "6.61\n"
          ]
        }
      ]
    },
    {
      "cell_type": "markdown",
      "metadata": {
        "id": "AJe250nKPNC4"
      },
      "source": [
        "10. Выберите случайным образом и выведите информацию о 10 различных рецептах"
      ]
    },
    {
      "cell_type": "code",
      "source": [
        "a = np.random.randint(recipe.shape[0], size = 10)\n",
        "print(recipe[a])"
      ],
      "metadata": {
        "colab": {
          "base_uri": "https://localhost:8080/"
        },
        "id": "2Ako6VCsrSaM",
        "outputId": "2d9c97d8-b5e6-436a-8e3d-ef3168adf58f"
      },
      "execution_count": 27,
      "outputs": [
        {
          "output_type": "stream",
          "name": "stdout",
          "text": [
            "[[ 25710     25     12]\n",
            " [326282     25      7]\n",
            " [469707     40      5]\n",
            " [477061     75     11]\n",
            " [315114     35     17]\n",
            " [189490   4330      2]\n",
            " [395174    120     14]\n",
            " [     1      1      1]\n",
            " [358436    120      8]\n",
            " [ 28624     15      4]]\n"
          ]
        }
      ]
    },
    {
      "cell_type": "markdown",
      "metadata": {
        "id": "smhdYHgsPNC4"
      },
      "source": [
        "11. Выведите процент рецептов, кол-во ингредиентов в которых меньше среднего."
      ]
    },
    {
      "cell_type": "code",
      "source": [
        "a = np.mean(recipe[:,2], axis = 0)\n",
        "print(recipe[recipe[:,2]<a])\n",
        "print('----')\n",
        "print((100*len(recipe[recipe[:,2]<a]))/len(recipe))"
      ],
      "metadata": {
        "colab": {
          "base_uri": "https://localhost:8080/"
        },
        "id": "wsvHe0PMrYH9",
        "outputId": "e8a84a16-084c-46da-9c7f-991d8f7cc19e"
      },
      "execution_count": 30,
      "outputs": [
        {
          "output_type": "stream",
          "name": "stdout",
          "text": [
            "[[ 23891     25      7]\n",
            " [ 94746     10      6]\n",
            " [ 67660      5      6]\n",
            " ...\n",
            " [371794     35      8]\n",
            " [ 43407     35      7]\n",
            " [370915      5      4]]\n",
            "----\n",
            "58.989\n"
          ]
        }
      ]
    },
    {
      "cell_type": "markdown",
      "metadata": {
        "id": "NycZ-t7DPNC4"
      },
      "source": [
        "12. Назовем \"простым\" такой рецепт, длительность выполнения которого не больше 20 минут и кол-во ингредиентов в котором не больше 5. Создайте версию датасета с дополнительным столбцом, значениями которого являются 1, если рецепт простой, и 0 в противном случае."
      ]
    },
    {
      "cell_type": "code",
      "source": [
        "a = np.append(recipe, np.zeros((recipe.shape[0],1), dtype = 'int32'), axis = 1)\n",
        "a[np.logical_and(a[:,1]<=20,a[:,2]<=5)] = 1\n",
        "a = a.copy()\n",
        "print(a)"
      ],
      "metadata": {
        "colab": {
          "base_uri": "https://localhost:8080/"
        },
        "id": "o0ytOoguruSc",
        "outputId": "c0f036c8-e05e-4ec6-ca4f-6b1434a5b889"
      },
      "execution_count": 31,
      "outputs": [
        {
          "output_type": "stream",
          "name": "stdout",
          "text": [
            "[[127244     60     16      0]\n",
            " [ 23891     25      7      0]\n",
            " [ 94746     10      6      0]\n",
            " ...\n",
            " [498432     65     15      0]\n",
            " [     1      1      1      1]\n",
            " [ 81993    140     14      0]]\n"
          ]
        }
      ]
    },
    {
      "cell_type": "markdown",
      "metadata": {
        "id": "v72Iw2vYPNC4"
      },
      "source": [
        "13. Выведите процент \"простых\" рецептов в датасете"
      ]
    },
    {
      "cell_type": "code",
      "source": [
        "b = a[a[:,3] == 1]\n",
        "print((100*len(b)/len(recipe)))"
      ],
      "metadata": {
        "colab": {
          "base_uri": "https://localhost:8080/"
        },
        "id": "xalOHWGJsMYs",
        "outputId": "beb3e43e-bc26-4354-f5b4-ff72c6b3bc65"
      },
      "execution_count": 33,
      "outputs": [
        {
          "output_type": "stream",
          "name": "stdout",
          "text": [
            "9.943\n"
          ]
        }
      ]
    },
    {
      "cell_type": "markdown",
      "metadata": {
        "id": "rFx9UR-KPNC4"
      },
      "source": [
        "14. Разделим рецепты на группы по следующему правилу. Назовем рецепты короткими, если их продолжительность составляет менее 10 минут; стандартными, если их продолжительность составляет более 10, но менее 20 минут; и длинными, если их продолжительность составляет не менее 20 минут. Создайте трехмерный массив, где нулевая ось отвечает за номер группы (короткий, стандартный или длинный рецепт), первая ось - за сам рецепт и вторая ось - за характеристики рецепта. Выберите максимальное количество рецептов из каждой группы таким образом, чтобы было возможно сформировать трехмерный массив. Выведите форму полученного массива."
      ]
    },
    {
      "cell_type": "code",
      "execution_count": 49,
      "metadata": {
        "id": "yg0QNJa3PNC4",
        "colab": {
          "base_uri": "https://localhost:8080/"
        },
        "outputId": "e0e33022-9959-4087-d39f-63a610a17e6f"
      },
      "outputs": [
        {
          "output_type": "stream",
          "name": "stdout",
          "text": [
            "[[[[ 67660      5      6]\n",
            "   [366174      7      9]\n",
            "   [204134      5      3]\n",
            "   ...\n",
            "   [     1      1      1]\n",
            "   [420725      5      3]\n",
            "   [     1      1      1]]\n",
            "\n",
            "  [[ 94746     10      6]\n",
            "   [ 33941     18      9]\n",
            "   [446597     15      5]\n",
            "   ...\n",
            "   [107094     10      4]\n",
            "   [  9831     15      7]\n",
            "   [335859     12     14]]\n",
            "\n",
            "  [[127244     60     16]\n",
            "   [ 23891     25      7]\n",
            "   [157911     60     14]\n",
            "   ...\n",
            "   [ 92137     80      9]\n",
            "   [168901     25      7]\n",
            "   [392339     35     13]]]]\n"
          ]
        }
      ],
      "source": [
        "a1 = recipe[recipe[:,1]<10]\n",
        "a2 = recipe[np.logical_and(recipe[:,1]>=10, recipe[:,1]<20)]\n",
        "a3 = recipe[recipe[:,1]>=20]\n",
        "maxim = min(len(a1), len(a2), len(a3))\n",
        "b = np.array([[a1[:maxim-1],a2[:maxim-1],a3[:maxim-1]]])\n",
        "print(b)"
      ]
    }
  ],
  "metadata": {
    "kernelspec": {
      "display_name": "Python 3 (ipykernel)",
      "language": "python",
      "name": "python3"
    },
    "language_info": {
      "codemirror_mode": {
        "name": "ipython",
        "version": 3
      },
      "file_extension": ".py",
      "mimetype": "text/x-python",
      "name": "python",
      "nbconvert_exporter": "python",
      "pygments_lexer": "ipython3",
      "version": "3.9.12"
    },
    "colab": {
      "provenance": []
    }
  },
  "nbformat": 4,
  "nbformat_minor": 0
}